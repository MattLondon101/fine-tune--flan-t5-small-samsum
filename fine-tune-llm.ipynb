{
 "cells": [
  {
   "cell_type": "code",
   "execution_count": null,
   "metadata": {},
   "outputs": [],
   "source": [
    "from datasets import load_dataset\n",
    "from datasets import concatenate_datasets\n",
    "from transformers import AutoTokenizer, AutoModelForSeq2SeqLM\n",
    "import evaluate\n",
    "import nltk\n",
    "import numpy as np\n",
    "from nltk.tokenize import sent_tokenize\n",
    "nltk.download(\"punkt\")\n",
    "from transformers import DataCollatorForSeq2Seq\n",
    "from huggingface_hub import HfFolder\n",
    "from transformers import Seq2SeqTrainer, Seq2SeqTrainingArguments\n",
    "\n",
    "import os\n",
    "metric = evaluate.load(\"rouge\")"
   ]
  },
  {
   "cell_type": "code",
   "execution_count": null,
   "metadata": {},
   "outputs": [],
   "source": [
    "from dotenv import load_dotenv\n",
    "load_dotenv()\n",
    "hugging_face_username = os.environ.get('HUGGING_FACE_USERNAME')"
   ]
  },
  {
   "cell_type": "code",
   "execution_count": null,
   "metadata": {},
   "outputs": [],
   "source": [
    "os.makedirs(f\"models/{hugging_face_username}\", exist_ok=True)"
   ]
  },
  {
   "cell_type": "code",
   "execution_count": null,
   "metadata": {},
   "outputs": [],
   "source": [
    "class FineTuneLLM1:\n",
    "\n",
    "    def __init__(self, model_id, dataset_id):\n",
    "\n",
    "        self.model_id = model_id\n",
    "        self.dataset_id = dataset_id\n",
    "        self.label_pad_token_id = -100\n",
    "\n",
    "    def tokenize_prep(self):\n",
    "        dataset_id = self.dataset_id\n",
    "        dataset = load_dataset(dataset_id)\n",
    "        model_id = self.model_id\n",
    "        # Load tokenizer of FLAN-t5-base\n",
    "        tokenizer = AutoTokenizer.from_pretrained(model_id)\n",
    "        # Load model from the hub\n",
    "        model = AutoModelForSeq2SeqLM.from_pretrained(model_id)\n",
    "        # The maximum total input sequence length after tokenization.\n",
    "        # Sequences longer than this will be truncated, sequences shorter will be padded.\n",
    "        tokenized_inputs = concatenate_datasets([dataset[\"train\"], dataset[\"test\"]]).map(lambda x: tokenizer(x[\"dialogue\"], truncation=True), batched=True, remove_columns=[\"dialogue\", \"summary\"])\n",
    "        max_source_length = max([len(x) for x in tokenized_inputs[\"input_ids\"]])\n",
    "        print(f\"Max source length: {max_source_length}\")\n",
    "        # The maximum total sequence length for target text after tokenization.\n",
    "        # Sequences longer than this will be truncated, sequences shorter will be padded.\"\n",
    "        tokenized_targets = concatenate_datasets([dataset[\"train\"], dataset[\"test\"]]).map(lambda x: tokenizer(x[\"summary\"], truncation=True), batched=True, remove_columns=[\"dialogue\", \"summary\"])\n",
    "        max_target_length = max([len(x) for x in tokenized_targets[\"input_ids\"]])\n",
    "        print(f\"Max target length: {max_target_length}\")\n",
    "        label_pad_token_id = self.label_pad_token_id\n",
    "        return tokenizer, model, dataset, max_source_length, max_target_length, label_pad_token_id\n",
    "\n",
    "    def preprocess_function(self, sample,padding=\"max_length\"):\n",
    "        # add prefix to the input for t5\n",
    "        inputs = [\"summarize: \" + item for item in sample[\"dialogue\"]]\n",
    "        # tokenize inputs\n",
    "        model_inputs = tokenizer(inputs, max_length=max_source_length, padding=padding, truncation=True)\n",
    "        # Tokenize targets with the `text_target` keyword argument\n",
    "        labels = tokenizer(text_target=sample[\"summary\"], max_length=max_target_length, padding=padding, truncation=True)\n",
    "        # If we are padding here, replace all tokenizer.pad_token_id in the labels by -100 when we want to ignore\n",
    "        # padding in the loss.\n",
    "        if padding == \"max_length\":\n",
    "            labels[\"input_ids\"] = [\n",
    "                [(l if l != tokenizer.pad_token_id else -100) for l in label] for label in labels[\"input_ids\"]\n",
    "            ]\n",
    "        model_inputs[\"labels\"] = labels[\"input_ids\"]\n",
    "        return model_inputs\n",
    "\n",
    "    def postprocess_text(self, preds, labels):\n",
    "        preds = [pred.strip() for pred in preds]\n",
    "        labels = [label.strip() for label in labels]\n",
    "        # rougeLSum expects newline after each sentence\n",
    "        preds = [\"\\n\".join(sent_tokenize(pred)) for pred in preds]\n",
    "        labels = [\"\\n\".join(sent_tokenize(label)) for label in labels]\n",
    "        return preds, labels\n",
    "\n",
    "    def compute_metrics(self, eval_preds):\n",
    "        preds, labels = eval_preds\n",
    "        if isinstance(preds, tuple):\n",
    "            preds = preds[0]\n",
    "        decoded_preds = tokenizer.batch_decode(preds, skip_special_tokens=True)\n",
    "        # Replace -100 in the labels as we can't decode them.\n",
    "        labels = np.where(labels != -100, labels, tokenizer.pad_token_id)\n",
    "        decoded_labels = tokenizer.batch_decode(labels, skip_special_tokens=True)\n",
    "        # Some simple post-processing\n",
    "        decoded_preds, decoded_labels = self.postprocess_text(decoded_preds, decoded_labels)\n",
    "        metric = evaluate.load(\"rouge\")\n",
    "        result = metric.compute(predictions=decoded_preds, references=decoded_labels, use_stemmer=True)\n",
    "        result = {k: round(v * 100, 4) for k, v in result.items()}\n",
    "        prediction_lens = [np.count_nonzero(pred != tokenizer.pad_token_id) for pred in preds]\n",
    "        result[\"gen_len\"] = np.mean(prediction_lens)\n",
    "        return result\n"
   ]
  },
  {
   "cell_type": "code",
   "execution_count": null,
   "metadata": {},
   "outputs": [],
   "source": [
    "## Run Training\n",
    "\n",
    "model_id = \"google/flan-t5-small\"\n",
    "dataset_id = \"samsum\"\n",
    "version_number = \"1\" # Change model version if necessary\n",
    "\n",
    "ftl1 = FineTuneLLM1(model_id, dataset_id)\n",
    "\n",
    "tokenizer, model, dataset, max_source_length, max_target_length, label_pad_token_id = ftl1.tokenize_prep()\n",
    "\n",
    "preprocess_function = ftl1.preprocess_function\n",
    "compute_metrics = ftl1.compute_metrics\n",
    "\n",
    "tokenized_dataset = dataset.map(preprocess_function, batched=True, remove_columns=[\"dialogue\", \"summary\", \"id\"])\n",
    "print(f\"Keys of tokenized dataset: {list(tokenized_dataset['train'].features)}\")\n",
    "\n",
    "metric = evaluate.load(\"rogue\")\n",
    "\n",
    "# Data collator\n",
    "data_collator = DataCollatorForSeq2Seq(\n",
    "    tokenizer,\n",
    "    model=model,\n",
    "    label_pad_token_id=label_pad_token_id,\n",
    "    pad_to_multiple_of=8\n",
    ")\n",
    "\n",
    "# Hugging Face repository id\n",
    "model_name = f\"{model_id.split('/')[1]}-{dataset_id}--{version_number}\"\n",
    "repository_id = os.path.join('models', hugging_face_username, model_name)\n",
    "\n",
    "# Define training args\n",
    "training_args = Seq2SeqTrainingArguments(\n",
    "    output_dir=repository_id,\n",
    "    per_device_train_batch_size=8,\n",
    "    per_device_eval_batch_size=8,\n",
    "    predict_with_generate=True,\n",
    "    fp16=False, # Overflows with fp16\n",
    "    learning_rate=5e-5,\n",
    "    num_train_epochs=1,\n",
    "    evaluation_strategy=\"epoch\",\n",
    "    save_strategy=\"epoch\",\n",
    "    push_to_hub=True\n",
    ")\n",
    "# Create Trainer instance\n",
    "trainer = Seq2SeqTrainer(\n",
    "    model=model,\n",
    "    args=training_args,\n",
    "    data_collator=data_collator,\n",
    "    train_dataset=tokenized_dataset[\"train\"],\n",
    "    eval_dataset=tokenized_dataset[\"test\"],\n",
    "    compute_metrics=compute_metrics,\n",
    ")\n",
    "\n",
    "trainer.train()"
   ]
  },
  {
   "cell_type": "code",
   "execution_count": null,
   "metadata": {},
   "outputs": [],
   "source": [
    "trainer.save_model(repository_id)"
   ]
  },
  {
   "cell_type": "code",
   "execution_count": null,
   "metadata": {},
   "outputs": [],
   "source": [
    "tokenizer.save_pretrained(repository_id)"
   ]
  },
  {
   "cell_type": "code",
   "execution_count": null,
   "metadata": {},
   "outputs": [],
   "source": [
    "repository_id"
   ]
  },
  {
   "cell_type": "code",
   "execution_count": null,
   "metadata": {},
   "outputs": [],
   "source": [
    "remote_repo_id = os.path.join(*repository_id.split('/')[1:])\n",
    "remote_repo_id"
   ]
  },
  {
   "cell_type": "code",
   "execution_count": null,
   "metadata": {},
   "outputs": [],
   "source": [
    "model.push_to_hub(remote_repo_id)"
   ]
  },
  {
   "cell_type": "code",
   "execution_count": null,
   "metadata": {},
   "outputs": [],
   "source": [
    "tokenizer.push_to_hub(remote_repo_id)"
   ]
  }
 ],
 "metadata": {
  "kernelspec": {
   "display_name": "hf-3-10-12",
   "language": "python",
   "name": "python3"
  },
  "language_info": {
   "codemirror_mode": {
    "name": "ipython",
    "version": 3
   },
   "file_extension": ".py",
   "mimetype": "text/x-python",
   "name": "python",
   "nbconvert_exporter": "python",
   "pygments_lexer": "ipython3",
   "version": "3.10.13"
  }
 },
 "nbformat": 4,
 "nbformat_minor": 2
}
